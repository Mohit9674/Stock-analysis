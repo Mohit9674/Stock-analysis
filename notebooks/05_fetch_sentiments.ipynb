{
 "cells": [
  {
   "cell_type": "code",
   "execution_count": 3,
   "metadata": {},
   "outputs": [
    {
     "name": "stderr",
     "output_type": "stream",
     "text": [
      "Days:  30%|███       | 221/732 [2:18:33<5:16:18, 37.14s/it]"
     ]
    }
   ],
   "source": [
    "import requests\n",
    "import time\n",
    "import pandas as pd\n",
    "from datetime import date, timedelta\n",
    "from tqdm.auto import tqdm\n",
    "\n",
    "# ─── CONFIG ─────────────────────────────────────────────────────────────────────\n",
    "API_KEY    = \"2Xm1jWjTkGdQlDyTSGTsWFvNga_Tpaak\"\n",
    "BASE_URL   = \"https://api.polygon.io/v2/reference/news\"\n",
    "TICKERS    = [\"AAPL\",\"GOOGL\",\"TSLA\"]\n",
    "START_DATE = date(2023, 6, 1)\n",
    "END_DATE   = date(2025, 6, 1)\n",
    "OUTPUT_CSV = \"../data/processed/news_data_polygon.csv\"\n",
    "# ────────────────────────────────────────────────────────────────────────────────\n",
    "\n",
    "records = []\n",
    "delta = timedelta(days=1)\n",
    "\n",
    "for single_day in tqdm(pd.date_range(START_DATE, END_DATE), desc=\"Days\"):\n",
    "    day_str = single_day.date().isoformat()  # \"YYYY-MM-DD\"\n",
    "    for ticker in TICKERS:\n",
    "        params = {\n",
    "            \"ticker\": ticker,\n",
    "            \"published_utc.gte\": day_str,\n",
    "            \"published_utc.lte\": day_str,\n",
    "            \"limit\": 100,\n",
    "            \"apiKey\": API_KEY\n",
    "        }\n",
    "        resp = requests.get(BASE_URL, params=params)\n",
    "        resp.raise_for_status()\n",
    "        for news in resp.json().get(\"results\", []):\n",
    "            records.append({\n",
    "                \"ds\": pd.to_datetime(news[\"published_utc\"]).normalize(),\n",
    "                \"Ticker\": ticker,\n",
    "                \"headline\": news.get(\"title\", news.get(\"description\",\"\"))\n",
    "            })\n",
    "        time.sleep(12)   # ~5 calls per minute => 12 s pause\n",
    "\n",
    "# Save to disk\n",
    "news_df = pd.DataFrame(records)\n",
    "news_df.to_csv(OUTPUT_CSV, index=False)\n",
    "print(f\"\\nFetched {len(news_df)} headlines over {news_df['ds'].nunique()} unique days.\")\n"
   ]
  },
  {
   "cell_type": "code",
   "execution_count": 54,
   "metadata": {},
   "outputs": [
    {
     "name": "stdout",
     "output_type": "stream",
     "text": [
      "\n",
      "Fetched 19114 headlines over 729 unique days.\n"
     ]
    }
   ],
   "source": [
    "OUTPUT_CSV = \"../data/processed/news_data_polygon.csv\"\n",
    "news_df.to_csv(OUTPUT_CSV, index=False)\n",
    "print(f\"\\nFetched {len(news_df)} headlines over {news_df['ds'].nunique()} unique days.\")"
   ]
  },
  {
   "cell_type": "code",
   "execution_count": null,
   "metadata": {},
   "outputs": [],
   "source": []
  }
 ],
 "metadata": {
  "kernelspec": {
   "display_name": "venv311",
   "language": "python",
   "name": "python3"
  },
  "language_info": {
   "codemirror_mode": {
    "name": "ipython",
    "version": 3
   },
   "file_extension": ".py",
   "mimetype": "text/x-python",
   "name": "python",
   "nbconvert_exporter": "python",
   "pygments_lexer": "ipython3",
   "version": "3.11.13"
  }
 },
 "nbformat": 4,
 "nbformat_minor": 2
}
